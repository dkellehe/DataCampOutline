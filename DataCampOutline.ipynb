{
 "cells": [
  {
   "cell_type": "markdown",
   "metadata": {},
   "source": [
    "# Data Engineering with Python\n",
    "\n",
    "## Description\n",
    "\n",
    "Data science teams encounter many varieties of problems day to day, ranging from data collection and cleaning, to model building and implementation, to delivering a finished product or presenting important insights. In large, well-developed data teams these roles might be distinguished between different people or even have their own dedicated teams. But in smaller more integrated teams, a data scientist will have to be able to seemlessly jump between these functions.\n",
    "\n",
    "Regardless of size, one of the biggest challenges in data science is preparing data to the workflow. This is called Data Engineering. This course focuses on how you bring data from databases and the internet into your own flow.\n",
    "\n",
    "## Learning Objectives\n",
    "\n",
    "By the end of this course you should\n",
    "- Distinguish between the different tasks and challenges facing data teams\n",
    "- Retrieve and process data from large databases using *SQL* and *Apache Spark*\n",
    "- Preprocess data and engineer important features \n",
    "- Format data so that it will be of maximum use further down the data pipeline\n",
    "\n",
    "## Courses\n",
    "\n",
    "- Exploratory Data Analysis Course\n",
    "    - Market text: You've been told what is in your database. You have the documentation that explains each variable. But how do you get a feel for what is in a large dataset? This course will show you how to take a peak into your data. You will learn how to understand what is in each variable, and how to see if there are red flags. You will also learn how to visualise your data to share it with you others.\n",
    "    - Obejectives: Understand data types and count Null entries, Perform descriptive analysis based on data type for single variable, visualise data appropriately by datatype for single variable, describe and visualise pairs of variables.\n",
    "    - Prerequisites: Some Knowledge of Pandas and MatPlotLib, e.g. Intermediate Python for Data Science \n",
    "- Data Cleaning in Python *\n",
    "- Feature Engineering\n",
    "    - Market text: While model fitting gets a lot more attention, there are many situations where proper feature selection and extraction can vastly improve your predictive power. This course will teach you to efficiently perform common feature engineering tasks, and grant you the insight to know when to use these techniques.\n",
    "    - Obejectives: Transform and Impute data with Pandas and NumPy, Select most important variables with advanced statistics techniques like ANOVA and PCA, Prepare data for models with normalisation and dummy variables, Engineer features using NumPy and SciKit Learn.\n",
    "    - Prerequistes: Previous courses in track as well as Intro to Python and Intermediate Python for DataScience.\n",
    "- Intro to to SQL for data science **\n",
    "    - SQL is almost synonymous with data engineering. Understanding the basics of SQL empower data scientists to talk about data engineering: the language and ideas in Pandas and DplyR use SQL.\n",
    "- Intro to PySpark *\n",
    "    - Apache Spark is one of the most common ways to interact with SQL, so it is important \n",
    "- Building Recommendation Engines *\n",
    "    - This is something like a *capstone*: This course will help illustrate the power data engineering can have to improve model building.\n",
    "\n",
    "\\* Pre-existing\n",
    "\n",
    "** Part of the Python for Data Science course\n"
   ]
  },
  {
   "cell_type": "markdown",
   "metadata": {},
   "source": [
    "## Course Outline for *Feature Engineering with Python*\n",
    "\n",
    "### Market text\n",
    " While model fitting gets a lot more attention, there are many situations where proper feature selection and extraction can vastly improve your predictive power. This course will teach you to efficiently perform common feature engineering tasks, and grant you the insight to know when to use these techniques.\n",
    " \n",
    "### Obejectives\n",
    "Transform and Impute data with Pandas and NumPy, Select most important variables with advanced statistics techniques like ANOVA and PCA, Prepare data for models with normalisation and dummy variables, Engineer features using NumPy and SciKit Learn.\n",
    "\n",
    "### Prerequisites\n",
    "Previous courses in track as well as Intro to Python and Intermediate Python for DataScience.\n",
    "\n",
    "### Course d/dx\n",
    "(For instructor) When creating this course, keep in mind that the target student has a passing understanding of pandas and numpy, but maybe little to no experience with statistics and SciKitLearn, so take time\n",
    "- to explain the concepts of outliers and variance and illustrate these concepts with data and coding exercises.\n",
    "- to explain the language/grammer of SciKit learn model objects, in particular fit, transfrom, and fit_transform. \n",
    "\n",
    "We want to teach these students to have the following concrete skills\n",
    "- Transform variables with pandas (bin, impute, tokenize)\n",
    "- Evaluate when and how to cut outliers\n",
    "- Evaluate which variables are predictive using Variance\n",
    "- Normalise/scale data\n",
    "- Feature engineer using PCA\n",
    "\n",
    "We also want to teach the students the soft skills of understanding when these techniques will improve prediction, and how to explain their process.\n",
    "\n",
    "\n",
    "\n",
    "\n",
    "## Outline \n",
    "\n",
    "1. Broadcasting Functions with Pandas\n",
    "    - `cut` function and binning\n",
    "    - `apply` and `transform` methods\n",
    "    - missing values\n",
    "    - get-dummies and tokenizing\n",
    "2. Statistical Techniques\n",
    "    - outliers\n",
    "    - ANOVA\n",
    "    - fit and predict methods\n",
    "3. Normalising and Scaling with SciKitLearn\n",
    "    - fit, tranform and fit_transform methods\n",
    "    - standard scalar\n",
    "    - L2 and L1 normalising\n",
    "    - Principal Component Analysis\n",
    "    - Pipelines for preprocessing\n",
    "4. Preparing data for prediction\n",
    "    - get-dummies for multiclass classification problems\n",
    "    - Using Variance to select variables\n",
    "    - Using PCA to preprocess variables\n",
    "    - Normalising to improve accuracy"
   ]
  },
  {
   "cell_type": "code",
   "execution_count": 77,
   "metadata": {},
   "outputs": [],
   "source": [
    "import pandas as pd \n",
    "import seaborn as sns\n",
    "from sklearn.decomposition import PCA\n",
    "from sklearn.preprocessing import StandardScaler"
   ]
  },
  {
   "cell_type": "code",
   "execution_count": 83,
   "metadata": {},
   "outputs": [],
   "source": [
    "heart_disease = pd.read_csv('heart.csv')\n",
    "heart_disease_scaled = StandardScaler().fit_transform(heart_disease.iloc[:,0:14])\n",
    "heart_pca = PCA()\n",
    "heart_pca_transform =  pd.DataFrame(heart_pca.fit_transform(heart_disease_scaled))\n",
    "id_vars = heart_pca_transform.columns\n",
    "heart_pca_transform[\"target\"] = heart_disease[\"target\"]\n",
    "heart_pca_transform = heart_pca_transform.melt(id_vars = \"target\", var_name = \"PC\")"
   ]
  },
  {
   "cell_type": "code",
   "execution_count": 85,
   "metadata": {},
   "outputs": [
    {
     "data": {
      "image/png": "[encoded data removed]",
      "text/plain": [
       "<Figure size 864x864 with 14 Axes>"
      ]
     },
     "metadata": {
      "needs_background": "light"
     },
     "output_type": "display_data"
    }
   ],
   "source": [
    "# Initialise facet grid\n",
    "g = sns.FacetGrid(heart_pca_transform,\n",
    "                 col = \"PC\", hue = \"target\", col_wrap=4) \n",
    "#\n",
    "# Map lineplot\n",
    "g = g.map(sns.distplot, \"value\", bins = 20, kde = False\n",
    "                  )\n",
    "g = g.set_xticklabels(rotation = 45)\n",
    "#\n",
    "# Relabel the axes\n",
    "g = g.set_ylabels(\"Value\")\n",
    "g = g.set_xlabels(\"Count\")"
   ]
  },
  {
   "attachments": {},
   "cell_type": "markdown",
   "metadata": {},
   "source": [
    "## Question Prompt\n",
    "\n",
    "Dimension reduction is the learning process by which we take a high dimensional data set (i.e. a data set with a lot of columns) and output a data set with a few variables which still has the important structures. \n",
    "\n",
    "Principal Component analysis is one of the most popular techniques for dimension reduction. This is in part because it is effective for visualising higher dimensional data sets.\n",
    "\n",
    "We have loaded the [UCI Heart Disease Data](https://www.kaggle.com/ronitf/heart-disease-uci) and performed PCA. This data contains 14 of the most commonly tracked variables along with  a target variable (1 indicates the presence of heart disease, 0 indicates none). To the right is a facet wrapped list of histograms of the each of the Principal Components colored by the target variable. (the histogram facet wrap above)\n",
    "\n",
    "\n",
    "### Question\n",
    "\n",
    "Which of the following statements is true:\n",
    "\n",
    "1. All of the components are equally predictive of the presence of heart disease.\n",
    "    - (entering this answer will result in the response: \"While almost all of the PCs have both orange and blue histograms with similar means and standard deviations, there is one which does not\")\n",
    "2. The first PC does the best job at predicting heart disease\n",
    "    - (Correct answer: \"PC1 is the only PC which has significant separation of the distribution of the blue and orange variables.\")\n",
    "3. The heights of the peaks is the most significant factor in prediction\n",
    "    - (Response: \"The height of a peak in a histogram indicates that there are more variables at a specific node. While height of a peak is important in chosing predictive variables with ANOVA, the location of the peaks will be more significant here.\")\n",
    "4. You can't use PCA to improve prediction for this data\n",
    "    - (Response: \"While this will not guarantee correct predictions, we can see that there are some variable which distinguish the distributions of the orange and the blue.\")\n",
    "    \n",
    "## Exercise Prompt\n",
    "\n",
    "We are going to use our Pandas skills to learn which variables are most important from our Principal Components. We saw in the previous exercise, that the first PC gave us the best separation between the values of the target (orange and blue), so we shall focus on that. In this exercise we shall discover which variables contribute the most to this component.\n",
    "\n",
    "Once we have fit a `PCA` object, it stores the components in the `components_` attribute as a `numpy` array, with the components stored as columns. For example, `pca.components_[:,5]` is the 6th component. (Remember Python is 0-indexed!) The underscore at the end of the attribute is simply to avoid some naming conflict. If in the future you are confused by what is in a class, then you can use the `dir` function. Go ahead, try `dir(heart_pca)` in the kernel!\n",
    "\n",
    "The *magnitude* of the the variable is how important it is to the component, so a large negative value is as important as a large positive value. So we shall use our transformation techniques to `apply` the absolute value to our newly created DataFrame.\n",
    "\n",
    "The data is loaded in as `heart_disease`, and `heart_pca` has already been fit for you.\n",
    "\n",
    "### Instructions:\n",
    "-  `heart_df` is initialized as an empty data frame, create a column called `Variable` which has the column names of the first 14 columns of `heart_disease`\n",
    "- Create a column of `heart_df` called `PC1` which has the first principal component of `heart_pca`.\n",
    "- `apply` the `np.abs` function to the `PC1` column of `heart_df` to get the magnitudes of that column.\n",
    "- Examine the output graph to see \n",
    "\n",
    "### Hint\n",
    "- Remember that the column names of a dataframe are stored in the `columns` attribute.\n",
    "- `heart_pca.components_[:,0]` is the first principal component\n",
    "- use the `apply` method on `heart[\"PC1\"]` to apply the function `np.abs`.\n"
   ]
  },
  {
   "cell_type": "code",
   "execution_count": 48,
   "metadata": {},
   "outputs": [
    {
     "data": {
      "text/plain": [
       "([0, 1, 2, 3, 4, 5, 6, 7, 8, 9, 10, 11, 12, 13],\n",
       " <a list of 14 Text xticklabel objects>)"
      ]
     },
     "execution_count": 48,
     "metadata": {},
     "output_type": "execute_result"
    },
    {
     "data": {
      "image/png": "[encoded data removed]",
      "text/plain": [
       "<Figure size 432x288 with 1 Axes>"
      ]
     },
     "metadata": {
      "needs_background": "light"
     },
     "output_type": "display_data"
    }
   ],
   "source": [
    "# Imported packages\n",
    "import pandas as pd\n",
    "import numpy as np\n",
    "import matplotlib.pyplot as plt\n",
    "#\n",
    "# This initializes the dataframe: heart_df\n",
    "heart_df = pd.DataFrame()\n",
    "#\n",
    "# Fill in the column Variables with the first 14 column names of heart_disease\n",
    "heart_df[\"Variables\"] = heart_disease.columns[0:14]\n",
    "#\n",
    "# Fill in the column PC1 with the first PC from heart_pca\n",
    "heart_df[\"PC1\"] = heart_pca.components_[:,0]\n",
    "#\n",
    "#\n",
    "heart_df[\"PC1\"] = heart_df[\"PC1\"].apply(np.abs)\n",
    "#\n",
    "\n",
    "plt.bar(heart_df.Variables, height = heart_df.PC1)\n",
    "plt.xticks(rotation = 60)"
   ]
  },
  {
   "cell_type": "markdown",
   "metadata": {},
   "source": [
    "## Yay!\n",
    "\n",
    "You can see the `trestbps` (which is resting bloodpressure) contributes the most to the first PC!"
   ]
  }
 ],
 "metadata": {
  "kernelspec": {
   "display_name": "Python 3",
   "language": "python",
   "name": "python3"
  },
  "language_info": {
   "codemirror_mode": {
    "name": "ipython",
    "version": 3
   },
   "file_extension": ".py",
   "mimetype": "text/x-python",
   "name": "python",
   "nbconvert_exporter": "python",
   "pygments_lexer": "ipython3",
   "version": "3.7.2"
  }
 },
 "nbformat": 4,
 "nbformat_minor": 2
}
